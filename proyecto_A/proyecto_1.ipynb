{
 "cells": [
  {
   "cell_type": "code",
   "execution_count": 5,
   "id": "61064d7d",
   "metadata": {},
   "outputs": [
    {
     "data": {
      "text/plain": [
       "'¡Hola, Juan! Bienvenido a un Notebook de Jupyter.'"
      ]
     },
     "execution_count": 5,
     "metadata": {},
     "output_type": "execute_result"
    }
   ],
   "source": [
    "def saludar(nombre):\n",
    "    \"\"\"\n",
    "    Esta función recibe un nombre y devuelve un saludo personalizado.\n",
    "    \"\"\"\n",
    "    return f\"¡Hola, {nombre}! Bienvenido a un Notebook de Jupyter.\"\n",
    "\n",
    "# Ejemplo de uso:\n",
    "saludar(\"Juan\")\n"
   ]
  }
 ],
 "metadata": {
  "kernelspec": {
   "display_name": "venv_1",
   "language": "python",
   "name": "python3"
  },
  "language_info": {
   "codemirror_mode": {
    "name": "ipython",
    "version": 3
   },
   "file_extension": ".py",
   "mimetype": "text/x-python",
   "name": "python",
   "nbconvert_exporter": "python",
   "pygments_lexer": "ipython3",
   "version": "3.13.7"
  }
 },
 "nbformat": 4,
 "nbformat_minor": 5
}
